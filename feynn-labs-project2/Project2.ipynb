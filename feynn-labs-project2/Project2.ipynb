{
  "nbformat": 4,
  "nbformat_minor": 0,
  "metadata": {
    "colab": {
      "provenance": []
    },
    "kernelspec": {
      "name": "python3",
      "display_name": "Python 3"
    },
    "language_info": {
      "name": "python"
    }
  },
  "cells": [
    {
      "cell_type": "markdown",
      "source": [
        "##Importing Libraries"
      ],
      "metadata": {
        "id": "7ARFBgJHWymk"
      }
    },
    {
      "cell_type": "code",
      "source": [
        "import pandas as pd\n",
        "import numpy as np\n",
        "import matplotlib.pyplot as plt"
      ],
      "metadata": {
        "id": "1HSh2hOrWwxK"
      },
      "execution_count": 1,
      "outputs": []
    },
    {
      "cell_type": "markdown",
      "source": [
        "##Exploratory Data Anlysis"
      ],
      "metadata": {
        "id": "EG_tiwfiW1of"
      }
    },
    {
      "cell_type": "code",
      "execution_count": 2,
      "metadata": {
        "colab": {
          "base_uri": "https://localhost:8080/"
        },
        "id": "YkKDxarZEUYp",
        "outputId": "b8d7e90c-2ee5-439c-94ac-80cf6acf0437"
      },
      "outputs": [
        {
          "output_type": "stream",
          "name": "stdout",
          "text": [
            "['yummy', 'convenient', 'spicy', 'fattening', 'greasy', 'fast', 'cheap', 'tasty', 'expensive', 'healthy', 'disgusting', 'Like', 'Age', 'VisitFrequency', 'Gender']\n",
            "(1453, 15)\n",
            "<class 'pandas.core.frame.DataFrame'>\n",
            "RangeIndex: 1453 entries, 0 to 1452\n",
            "Data columns (total 15 columns):\n",
            " #   Column          Non-Null Count  Dtype \n",
            "---  ------          --------------  ----- \n",
            " 0   yummy           1453 non-null   object\n",
            " 1   convenient      1453 non-null   object\n",
            " 2   spicy           1453 non-null   object\n",
            " 3   fattening       1453 non-null   object\n",
            " 4   greasy          1453 non-null   object\n",
            " 5   fast            1453 non-null   object\n",
            " 6   cheap           1453 non-null   object\n",
            " 7   tasty           1453 non-null   object\n",
            " 8   expensive       1453 non-null   object\n",
            " 9   healthy         1453 non-null   object\n",
            " 10  disgusting      1453 non-null   object\n",
            " 11  Like            1453 non-null   object\n",
            " 12  Age             1453 non-null   int64 \n",
            " 13  VisitFrequency  1453 non-null   object\n",
            " 14  Gender          1453 non-null   object\n",
            "dtypes: int64(1), object(14)\n",
            "memory usage: 170.4+ KB\n",
            "None\n",
            "  yummy convenient spicy fattening greasy fast cheap tasty expensive healthy  \\\n",
            "0    No        Yes    No       Yes     No  Yes   Yes    No       Yes      No   \n",
            "1   Yes        Yes    No       Yes    Yes  Yes   Yes   Yes       Yes      No   \n",
            "2    No        Yes   Yes       Yes    Yes  Yes    No   Yes       Yes     Yes   \n",
            "\n",
            "  disgusting Like  Age      VisitFrequency  Gender  \n",
            "0         No   -3   61  Every three months  Female  \n",
            "1         No   +2   51  Every three months  Female  \n",
            "2         No   +1   62  Every three months  Female  \n"
          ]
        }
      ],
      "source": [
        "dataset = pd.read_csv(\"mcdonalds.csv\")\n",
        "\n",
        "features = list(dataset.columns.values)\n",
        "print(features)\n",
        "\n",
        "dimensions = dataset.shape\n",
        "print(dimensions)\n",
        "\n",
        "info = dataset.info()\n",
        "print(info)\n",
        "\n",
        "starting_3 = dataset.iloc[:3]\n",
        "print(starting_3)\n"
      ]
    },
    {
      "cell_type": "markdown",
      "source": [
        "##Principle Component Analysis"
      ],
      "metadata": {
        "id": "l57tMYAzXBrg"
      }
    },
    {
      "cell_type": "code",
      "source": [
        "from sklearn.preprocessing import LabelEncoder\n",
        "lb = LabelEncoder() \n",
        "yes_no_features = dataset.drop(['Like','Age','VisitFrequency','Gender'], axis=1)\n",
        "labels= ['yummy', 'convenient', 'spicy', 'fattening', 'greasy', 'fast', 'cheap', 'tasty', 'expensive', 'healthy', 'disgusting']\n",
        "for label in labels:\n",
        "    yes_no_features[label] = lb.fit_transform(yes_no_features[label])\n",
        "for label in labels:\n",
        "    print(yes_no_features[label].describe())\n",
        "    \n",
        "\n",
        "from sklearn.decomposition import PCA\n",
        "pca = PCA()\n",
        "pca.fit(yes_no_features)"
      ],
      "metadata": {
        "id": "zxOpZqfvXBJt",
        "colab": {
          "base_uri": "https://localhost:8080/"
        },
        "outputId": "413e72b1-a01b-4433-ecde-bc8eb12f5820"
      },
      "execution_count": 3,
      "outputs": [
        {
          "output_type": "stream",
          "name": "stdout",
          "text": [
            "count    1453.000000\n",
            "mean        0.552650\n",
            "std         0.497391\n",
            "min         0.000000\n",
            "25%         0.000000\n",
            "50%         1.000000\n",
            "75%         1.000000\n",
            "max         1.000000\n",
            "Name: yummy, dtype: float64\n",
            "count    1453.000000\n",
            "mean        0.907777\n",
            "std         0.289440\n",
            "min         0.000000\n",
            "25%         1.000000\n",
            "50%         1.000000\n",
            "75%         1.000000\n",
            "max         1.000000\n",
            "Name: convenient, dtype: float64\n",
            "count    1453.000000\n",
            "mean        0.093599\n",
            "std         0.291371\n",
            "min         0.000000\n",
            "25%         0.000000\n",
            "50%         0.000000\n",
            "75%         0.000000\n",
            "max         1.000000\n",
            "Name: spicy, dtype: float64\n",
            "count    1453.000000\n",
            "mean        0.867171\n",
            "std         0.339506\n",
            "min         0.000000\n",
            "25%         1.000000\n",
            "50%         1.000000\n",
            "75%         1.000000\n",
            "max         1.000000\n",
            "Name: fattening, dtype: float64\n",
            "count    1453.000000\n",
            "mean        0.526497\n",
            "std         0.499469\n",
            "min         0.000000\n",
            "25%         0.000000\n",
            "50%         1.000000\n",
            "75%         1.000000\n",
            "max         1.000000\n",
            "Name: greasy, dtype: float64\n",
            "count    1453.000000\n",
            "mean        0.900206\n",
            "std         0.299828\n",
            "min         0.000000\n",
            "25%         1.000000\n",
            "50%         1.000000\n",
            "75%         1.000000\n",
            "max         1.000000\n",
            "Name: fast, dtype: float64\n",
            "count    1453.000000\n",
            "mean        0.598761\n",
            "std         0.490318\n",
            "min         0.000000\n",
            "25%         0.000000\n",
            "50%         1.000000\n",
            "75%         1.000000\n",
            "max         1.000000\n",
            "Name: cheap, dtype: float64\n",
            "count    1453.000000\n",
            "mean        0.644184\n",
            "std         0.478925\n",
            "min         0.000000\n",
            "25%         0.000000\n",
            "50%         1.000000\n",
            "75%         1.000000\n",
            "max         1.000000\n",
            "Name: tasty, dtype: float64\n",
            "count    1453.000000\n",
            "mean        0.357880\n",
            "std         0.479542\n",
            "min         0.000000\n",
            "25%         0.000000\n",
            "50%         0.000000\n",
            "75%         1.000000\n",
            "max         1.000000\n",
            "Name: expensive, dtype: float64\n",
            "count    1453.000000\n",
            "mean        0.198899\n",
            "std         0.399309\n",
            "min         0.000000\n",
            "25%         0.000000\n",
            "50%         0.000000\n",
            "75%         0.000000\n",
            "max         1.000000\n",
            "Name: healthy, dtype: float64\n",
            "count    1453.000000\n",
            "mean        0.242946\n",
            "std         0.429010\n",
            "min         0.000000\n",
            "25%         0.000000\n",
            "50%         0.000000\n",
            "75%         0.000000\n",
            "max         1.000000\n",
            "Name: disgusting, dtype: float64\n"
          ]
        },
        {
          "output_type": "execute_result",
          "data": {
            "text/plain": [
              "PCA()"
            ]
          },
          "metadata": {},
          "execution_count": 3
        }
      ]
    },
    {
      "cell_type": "markdown",
      "source": [
        "##Explained Variance, Explained Variance Ratio and Standard Deviation"
      ],
      "metadata": {
        "id": "AB-540HUXP1o"
      }
    },
    {
      "cell_type": "code",
      "source": [
        "print(\"Explained Variance: \", pca.explained_variance_)\n",
        "print(\"Explained Variance Ratio: \", pca.explained_variance_ratio_)\n",
        "StandardDeviation = []\n",
        "for label in labels:\n",
        "    StandardDeviation.append(yes_no_features[label].std())\n",
        "print(\"Standard Deviation: \", StandardDeviation)"
      ],
      "metadata": {
        "colab": {
          "base_uri": "https://localhost:8080/"
        },
        "id": "3zMNuDscEcie",
        "outputId": "dff1796c-cfb5-4579-cbde-ab08408205c7"
      },
      "execution_count": 4,
      "outputs": [
        {
          "output_type": "stream",
          "name": "stdout",
          "text": [
            "Explained Variance:  [0.57312398 0.36900226 0.2546408  0.15904032 0.11384214 0.09627033\n",
            " 0.08392454 0.07569209 0.07035814 0.06192225 0.05612296]\n",
            "Explained Variance Ratio:  [0.29944723 0.19279721 0.13304535 0.08309578 0.05948052 0.05029956\n",
            " 0.0438491  0.03954779 0.0367609  0.03235329 0.02932326]\n",
            "Standard Deviation:  [0.49739147292282415, 0.2894400880452743, 0.2913709341490916, 0.33950627976617925, 0.49946932529624816, 0.2998277031161639, 0.49031794523337763, 0.47892452876028785, 0.4795416998008332, 0.3993091814649538, 0.4290101624596189]\n"
          ]
        }
      ]
    },
    {
      "cell_type": "markdown",
      "source": [
        "##Plotting PCA"
      ],
      "metadata": {
        "id": "zxtoBbM-Xpzh"
      }
    },
    {
      "cell_type": "code",
      "source": [
        "pca_result = pca.transform(yes_no_features)\n",
        "plt.scatter(pca_result[:, 0], pca_result[:, 1], c=\"grey\")\n",
        "plt.xlabel(\"First Principal Component\")\n",
        "plt.ylabel(\"Second Principal Component\")\n",
        "plt.show()\n",
        "\n",
        "\n",
        "PC_values = np.arange(pca.n_components_) + 1\n",
        "plt.plot(PC_values, pca.explained_variance_ratio_, 'o-', linewidth=2, color='blue')\n",
        "plt.title('Scree Plot')\n",
        "plt.xlabel('Principal Component')\n",
        "plt.ylabel('Variance Explained')\n",
        "plt.show()"
      ],
      "metadata": {
        "colab": {
          "base_uri": "https://localhost:8080/",
          "height": 557
        },
        "id": "A6Kal-mjXxaT",
        "outputId": "b33a1c41-1774-496a-9722-4731632aae42"
      },
      "execution_count": 5,
      "outputs": [
        {
          "output_type": "display_data",
          "data": {
            "text/plain": [
              "<Figure size 432x288 with 1 Axes>"
            ],
            "image/png": "[encoded data removed]"
          },
          "metadata": {
            "needs_background": "light"
          }
        },
        {
          "output_type": "display_data",
          "data": {
            "text/plain": [
              "<Figure size 432x288 with 1 Axes>"
            ],
            "image/png": "[encoded data removed]"
          },
          "metadata": {
            "needs_background": "light"
          }
        }
      ]
    },
    {
      "cell_type": "markdown",
      "source": [
        "##K-means Clustering "
      ],
      "metadata": {
        "id": "WG02DjjqX2Ki"
      }
    },
    {
      "cell_type": "markdown",
      "source": [
        "Finding opttimal number of clusters using Elbow method"
      ],
      "metadata": {
        "id": "XUTm_dyFX--s"
      }
    },
    {
      "cell_type": "code",
      "source": [
        "X=yes_no_features\n",
        "from sklearn.cluster import KMeans\n",
        "wcss = []\n",
        "for i in range(1, 11):\n",
        "    kmeans = KMeans(n_clusters = i, init = 'k-means++', random_state = 42)\n",
        "    kmeans.fit(X)\n",
        "    wcss.append(kmeans.inertia_)\n",
        "plt.plot(range(1, 11), wcss)\n",
        "plt.title('The Elbow Method')\n",
        "plt.xlabel('Number of clusters')\n",
        "plt.ylabel('WCSS')\n",
        "plt.show()"
      ],
      "metadata": {
        "colab": {
          "base_uri": "https://localhost:8080/",
          "height": 295
        },
        "id": "Y7QcuQDzYF_6",
        "outputId": "409f2ae7-68cb-4b23-f10a-6a5b457484c0"
      },
      "execution_count": 6,
      "outputs": [
        {
          "output_type": "display_data",
          "data": {
            "text/plain": [
              "<Figure size 432x288 with 1 Axes>"
            ],
            "image/png": "[encoded data removed]"
          },
          "metadata": {
            "needs_background": "light"
          }
        }
      ]
    },
    {
      "cell_type": "markdown",
      "source": [
        "##Training K-means, Predicting and Visualizing Segmented Clusters"
      ],
      "metadata": {
        "id": "uX2JgBIDYLRg"
      }
    },
    {
      "cell_type": "code",
      "source": [
        "kmeans = KMeans(n_clusters = 4, init = 'k-means++', random_state = 42)\n",
        "y_kmeans = kmeans.fit_predict(X)\n",
        "print(y_kmeans)\n",
        "y_kmeans = pd.DataFrame(y_kmeans)\n",
        "\n",
        "\n",
        "predicted_yes_no_features = pd.concat([yes_no_features, pd.DataFrame(y_kmeans)], axis=1)\n",
        "\n",
        "cluster_1 = []\n",
        "cluster_2 = []\n",
        "cluster_3 = []\n",
        "cluster_4 = []\n",
        "for column in y_kmeans:\n",
        "     final_cluster = y_kmeans[column].tolist()\n",
        "\n",
        "y_cord = []\n",
        "for x in range (0,1453):\n",
        "    y_cord.append(x)\n",
        "    \n",
        "\n",
        "plt.scatter(final_cluster,y_cord )\n",
        "plt.xlabel(\"number of segments\")\n",
        "plt.show()\n",
        "\n",
        "for i in range(len(final_cluster)):\n",
        "    if final_cluster[i] == 0:\n",
        "        cluster_1.append(i)\n",
        "    elif final_cluster[i] == 1:\n",
        "        cluster_2.append(i)\n",
        "    elif final_cluster[i] == 2:\n",
        "        cluster_3.append(i)\n",
        "    elif final_cluster[i] == 3:\n",
        "        cluster_4.append(i)\n",
        "    else:\n",
        "        pass\n",
        "\n",
        "fig, axs = plt.subplots(1, 1,\n",
        "                        figsize =(10, 7),\n",
        "                        tight_layout = True)\n",
        "\n",
        "\n"
      ],
      "metadata": {
        "colab": {
          "base_uri": "https://localhost:8080/",
          "height": 792
        },
        "id": "-wy1nkh9EpFE",
        "outputId": "c58ac7fa-f280-4355-f443-be75495b69b8"
      },
      "execution_count": 7,
      "outputs": [
        {
          "output_type": "stream",
          "name": "stdout",
          "text": [
            "[3 2 2 ... 2 0 1]\n"
          ]
        },
        {
          "output_type": "display_data",
          "data": {
            "text/plain": [
              "<Figure size 432x288 with 1 Axes>"
            ],
            "image/png": "[encoded data removed]"
          },
          "metadata": {
            "needs_background": "light"
          }
        },
        {
          "output_type": "display_data",
          "data": {
            "text/plain": [
              "<Figure size 720x504 with 1 Axes>"
            ],
            "image/png": "[encoded data removed]"
          },
          "metadata": {
            "needs_background": "light"
          }
        }
      ]
    },
    {
      "cell_type": "markdown",
      "source": [
        "##Visualizing four Segmented Clusters"
      ],
      "metadata": {
        "id": "nEV0dPjqZMdv"
      }
    },
    {
      "cell_type": "code",
      "source": [
        "axs.hist(cluster_1)\n",
        "axs.hist(cluster_2)\n",
        "axs.hist(cluster_3)\n",
        "axs.hist(cluster_4)\n",
        "plt.xlabel(\"X-axis\")\n",
        "plt.ylabel(\"y-axis\")\n",
        "plt.title('four-segment k-means solution')\n",
        "plt.show()"
      ],
      "metadata": {
        "id": "-dGckt09ZQnr"
      },
      "execution_count": null,
      "outputs": []
    },
    {
      "cell_type": "markdown",
      "source": [
        "##Multiple Linear Regression Model"
      ],
      "metadata": {
        "id": "Lg3RBUfuYr4p"
      }
    },
    {
      "cell_type": "code",
      "source": [
        "#regression model\n",
        "\n",
        "right_dataset = dataset.drop(['yummy', 'convenient', 'spicy', 'fattening', 'greasy', 'fast', 'cheap', 'tasty', 'expensive', 'healthy', 'disgusting'], axis=1)\n",
        "final_dataset = pd.concat([yes_no_features, right_dataset], axis=1)  \n",
        "final_dataset['Like']=final_dataset['Like'].replace(['+1'],1)\n",
        "final_dataset['Like']=final_dataset['Like'].replace(['+2'],2)\n",
        "final_dataset['Like']=final_dataset['Like'].replace(['+3'],3)\n",
        "final_dataset['Like']=final_dataset['Like'].replace(['+4'],4)\n",
        "final_dataset['Like']=final_dataset['Like'].replace(['I love it!+5'],5)\n",
        "final_dataset['Like']=final_dataset['Like'].replace(['I hate it!-5'],-5)\n",
        "final_dataset['Like'].astype(int)\n",
        "\n",
        "model_dataset=final_dataset.drop(['Age', 'VisitFrequency','Gender'], axis=1)\n",
        "\n",
        "X = model_dataset.iloc[:, :-1].values\n",
        "y = model_dataset.iloc[:, -1].values\n",
        "print(X)\n",
        "\n",
        "# Splitting the dataset into the Training set and Test set\n",
        "from sklearn.model_selection import train_test_split\n",
        "X_train, X_test, y_train, y_test = train_test_split(X, y, test_size = 0.2, random_state = 0)\n",
        "\n",
        "# Training the Multiple Linear Regression model on the Training set\n",
        "from sklearn.linear_model import LinearRegression\n",
        "regressor = LinearRegression()\n",
        "regressor.fit(X_train, y_train)\n",
        "\n",
        "# Predicting the Test set results\n",
        "y_pred = regressor.predict(X_test)\n",
        "np.set_printoptions(precision=-1)\n",
        "\n",
        "print(np.concatenate((y_pred.reshape(len(y_pred),1), y_test.reshape(len(y_test),1)),1))\n"
      ],
      "metadata": {
        "colab": {
          "base_uri": "https://localhost:8080/"
        },
        "id": "I55q0kXkYqtO",
        "outputId": "3e32770e-ca46-44ae-e94d-bdde14953558"
      },
      "execution_count": 8,
      "outputs": [
        {
          "output_type": "stream",
          "name": "stdout",
          "text": [
            "[[0 1 0 ... 1 0 0]\n",
            " [1 1 0 ... 1 0 0]\n",
            " [0 1 1 ... 1 1 0]\n",
            " ...\n",
            " [1 1 0 ... 1 0 0]\n",
            " [1 1 0 ... 0 1 0]\n",
            " [0 1 0 ... 1 0 1]]\n",
            "[[0.7296707510453431 1]\n",
            " [3.1164484386644427 3]\n",
            " [0.5105618931099711 '-1']\n",
            " [-1.4349538259017427 '-3']\n",
            " [2.759327644979315 4]\n",
            " [2.7745068111880293 4]\n",
            " [2.978436502914686 3]\n",
            " [-3.0021824022131014 -5]\n",
            " [-2.8032790932707807 -5]\n",
            " [2.7868340896891297 '0']\n",
            " [2.759327644979315 4]\n",
            " [1.5186557510585976 3]\n",
            " [-0.624802476873261 '-1']\n",
            " [0.3066322013833134 1]\n",
            " [3.472991767896504 4]\n",
            " [3.83391672335791 5]\n",
            " [2.6218931736826248 '-1']\n",
            " [3.6299870316312512 4]\n",
            " [0.31575863802137616 '0']\n",
            " [2.978436502914686 3]\n",
            " [2.639845266986784 '-1']\n",
            " [2.759327644979315 3]\n",
            " [2.6218931736826248 4]\n",
            " [0.5105618931099711 '-2']\n",
            " [2.6218931736826248 5]\n",
            " [2.978436502914686 5]\n",
            " [2.858954124922157 5]\n",
            " [0.5105618931099711 '-2']\n",
            " [2.978436502914686 4]\n",
            " [-1.2678298888650024 '0']\n",
            " [3.3535093899039747 3]\n",
            " [2.6218931736826248 3]\n",
            " [-0.7001233539693261 '0']\n",
            " [-4.0370891588305495 -5]\n",
            " [-2.864747930916412 -5]\n",
            " [3.7674215029279416 4]\n",
            " [-3.8996546875338596 '-4']\n",
            " [3.7674215029279416 4]\n",
            " [3.472991767896504 5]\n",
            " [2.6218931736826248 1]\n",
            " [2.978436502914686 3]\n",
            " [-0.7001233539693261 '-4']\n",
            " [2.759327644979315 '-2']\n",
            " [0.7296707510453431 3]\n",
            " [-3.8179803008951776 -5]\n",
            " [-4.385686835790853 -5]\n",
            " [-0.9192322119046981 '-2']\n",
            " [-0.42467694692288016 2]\n",
            " [-3.0021824022131014 '0']\n",
            " [0.7570206066287624 3]\n",
            " [0.31575863802137616 1]\n",
            " [2.7745068111880293 4]\n",
            " [2.6218931736826248 3]\n",
            " [2.6218931736826248 1]\n",
            " [2.978436502914686 3]\n",
            " [2.8410020316179976 4]\n",
            " [0.6763774546709114 4]\n",
            " [0.3731274218132816 3]\n",
            " [-3.0021824022131014 '-2']\n",
            " [3.2690620761698472 3]\n",
            " [2.6218931736826248 5]\n",
            " [-3.8996546875338596 -5]\n",
            " [2.759327644979315 4]\n",
            " [-0.609623310664547 '-2']\n",
            " [3.6299870316312512 5]\n",
            " [2.759327644979315 5]\n",
            " [-1.7835515028620472 '-2']\n",
            " [2.978436502914686 3]\n",
            " [0.7296707510453431 1]\n",
            " [2.978436502914686 3]\n",
            " [-4.313566800557827 '-4']\n",
            " [-2.864747930916412 -5]\n",
            " [-4.0370891588305495 -5]\n",
            " [2.7745068111880293 2]\n",
            " [2.978436502914686 3]\n",
            " [0.40625868132615506 4]\n",
            " [2.6218931736826248 1]\n",
            " [2.759327644979315 1]\n",
            " [-1.440600375555337 -5]\n",
            " [0.5105618931099711 '0']\n",
            " [2.3454155319553482 1]\n",
            " [3.1354317666494333 4]\n",
            " [-1.2526507226562882 '0']\n",
            " [3.3355572965998155 5]\n",
            " [-0.6336281335393579 -5]\n",
            " [-3.8996546875338596 -5]\n",
            " [-3.0021824022131014 1]\n",
            " [0.5105618931099711 '-1']\n",
            " [-0.9192322119046981 '0']\n",
            " [2.978436502914686 1]\n",
            " [2.978436502914686 2]\n",
            " [-3.0021824022131014 '-2']\n",
            " [3.339361458376092 3]\n",
            " [-0.8375578252660156 1]\n",
            " [3.472991767896504 5]\n",
            " [0.7296707510453431 3]\n",
            " [3.3355572965998155 3]\n",
            " [2.8410020316179976 5]\n",
            " [-3.0686776226430696 2]\n",
            " [2.978436502914686 1]\n",
            " [-3.0021824022131014 1]\n",
            " [-4.385686835790853 '-1']\n",
            " [2.759327644979315 3]\n",
            " [0.5105618931099711 4]\n",
            " [3.472991767896504 4]\n",
            " [-4.0370891588305495 -5]\n",
            " [-1.4349538259017427 1]\n",
            " [-2.7830735442777295 '-4']\n",
            " [2.759327644979315 3]\n",
            " [2.978436502914686 3]\n",
            " [0.88030714639757 -5]\n",
            " [-3.059551186005007 '-2']\n",
            " [2.8410020316179976 5]\n",
            " [-1.077833032216614 '-3']\n",
            " [-2.864747930916412 -5]\n",
            " [-4.385686835790853 '-2']\n",
            " [2.6310196103206875 4]\n",
            " [-1.5723882971984322 '-2']\n",
            " [-1.18615550222632 '-3']\n",
            " [-3.0021824022131014 -5]\n",
            " [-1.0566666832013876 2]\n",
            " [2.5553979532526565 1]\n",
            " [-4.385686835790853 -5]\n",
            " [-2.864747930916412 1]\n",
            " [3.2728662379461237 4]\n",
            " [1.005117158091789 '0']\n",
            " [2.759327644979315 5]\n",
            " [3.472991767896504 5]\n",
            " [-3.0021824022131014 -5]\n",
            " [-2.7830735442777295 -5]\n",
            " [-0.9192322119046981 '-4']\n",
            " [-2.864747930916412 '-3']\n",
            " [-0.04857282525276063 1]\n",
            " [0.3066322013833134 '0']\n",
            " [0.960950298355421 2]\n",
            " [-1.1231619036313558 '-4']\n",
            " [0.7296707510453431 '0']\n",
            " [-1.0566666832013876 -5]\n",
            " [-1.4349538259017427 2]\n",
            " [1.4754911279861591 1]\n",
            " [-0.405693618937889 '-2']\n",
            " [3.1354317666494333 5]\n",
            " [0.4727539017561233 4]\n",
            " [-2.8495687647076977 -5]\n",
            " [-3.0021824022131014 '-4']\n",
            " [0.5105618931099711 '-4']\n",
            " [0.5922362797486536 1]\n",
            " [3.253882909961133 '0']\n",
            " [2.978436502914686 3]\n",
            " [-0.9192322119046981 '-3']\n",
            " [2.978436502914686 2]\n",
            " [2.978436502914686 3]\n",
            " [0.6565194811314845 -5]\n",
            " [3.7674215029279416 3]\n",
            " [2.978436502914686 3]\n",
            " [3.472991767896504 2]\n",
            " [2.759327644979315 1]\n",
            " [2.034029789602018 4]\n",
            " [-0.7001233539693261 2]\n",
            " [2.759327644979315 3]\n",
            " [0.7296707510453431 4]\n",
            " [-0.9192322119046981 '-3']\n",
            " [-2.64563907298104 '0']\n",
            " [-3.8331594671038913 -5]\n",
            " [3.418823825967637 5]\n",
            " [0.8011874663651313 '0']\n",
            " [2.8410020316179976 2]\n",
            " [2.8410020316179976 2]\n",
            " [-0.9192322119046981 '0']\n",
            " [-0.9192322119046981 1]\n",
            " [-2.864747930916412 -5]\n",
            " [2.8258228654092834 4]\n",
            " [0.5922362797486536 '0']\n",
            " [2.5553979532526565 5]\n",
            " [-2.864747930916412 -5]\n",
            " [1.694599985921531 4]\n",
            " [-0.7001233539693261 '-4']\n",
            " [-1.18615550222632 '0']\n",
            " [2.492404354657693 2]\n",
            " [-0.3303781006817279 '-3']\n",
            " [1.5186557510585976 3]\n",
            " [0.6763774546709114 5]\n",
            " [2.978436502914686 2]\n",
            " [0.40277638001486404 5]\n",
            " [2.8410020316179976 '0']\n",
            " [2.759327644979315 2]\n",
            " [-2.864747930916412 '-3']\n",
            " [-0.7534166503437576 3]\n",
            " [-0.7001233539693261 '0']\n",
            " [-2.64563907298104 -5]\n",
            " [-3.8331594671038913 '-4']\n",
            " [2.6218931736826248 1]\n",
            " [2.492404354657693 4]\n",
            " [-2.7830735442777295 -5]\n",
            " [-1.4349538259017427 1]\n",
            " [2.2732954967223202 1]\n",
            " [2.8410020316179976 4]\n",
            " [0.7296707510453431 '-1']\n",
            " [2.6218931736826248 '-2']\n",
            " [0.9708071897023489 2]\n",
            " [3.7674215029279416 5]\n",
            " [-0.7001233539693261 3]\n",
            " [-0.7001233539693261 '-1']\n",
            " [3.472991767896504 5]\n",
            " [-3.0021824022131014 '-4']\n",
            " [-0.9192322119046981 '-1']\n",
            " [2.759327644979315 4]\n",
            " [1.1135639358608238 '-4']\n",
            " [0.7296707510453431 '0']\n",
            " [2.8410020316179976 '-2']\n",
            " [2.6218931736826248 2]\n",
            " [2.7745068111880293 4]\n",
            " [0.32777977771060685 3]\n",
            " [2.978436502914686 4]\n",
            " [-4.0370891588305495 '-4']\n",
            " [1.7244208883618672 2]\n",
            " [-1.1140354669932928 2]\n",
            " [2.6218931736826248 5]\n",
            " [-0.8375578252660156 '0']\n",
            " [0.4537705737711326 1]\n",
            " [2.8258228654092834 2]\n",
            " [0.5105618931099711 '-1']\n",
            " [-0.7001233539693261 3]\n",
            " [-0.4126972438754035 -5]\n",
            " [2.759327644979315 1]\n",
            " [3.472991767896504 2]\n",
            " [3.472991767896504 1]\n",
            " [-0.8587241742812421 '-2']\n",
            " [2.978436502914686 4]\n",
            " [2.978436502914686 1]\n",
            " [-1.8336867727169954 '-1']\n",
            " [2.7745068111880293 '-1']\n",
            " [0.024529744852977098 '0']\n",
            " [3.053757380010751 3]\n",
            " [0.4663950333736031 2]\n",
            " [-2.864747930916412 '-4']\n",
            " [-0.9192322119046981 '-1']\n",
            " [2.759327644979315 1]\n",
            " [2.978436502914686 3]\n",
            " [2.759327644979315 5]\n",
            " [-3.8331594671038913 -5]\n",
            " [3.3355572965998155 3]\n",
            " [-3.350780079173406 '0']\n",
            " [-3.0021824022131014 '-4']\n",
            " [3.7674215029279416 4]\n",
            " [-1.3331443249286647 '-4']\n",
            " [2.8410020316179976 5]\n",
            " [0.7296707510453431 1]\n",
            " [3.472991767896504 3]\n",
            " [-0.8375578252660156 '-3']\n",
            " [2.7745068111880293 3]\n",
            " [3.7674215029279416 5]\n",
            " [-0.26768168318813257 2]\n",
            " [3.83391672335791 5]\n",
            " [2.7745068111880293 1]\n",
            " [2.759327644979315 1]\n",
            " [2.8258228654092834 4]\n",
            " [-3.350780079173406 -5]\n",
            " [2.759327644979315 3]\n",
            " [0.7296707510453431 1]\n",
            " [1.8814161520966144 5]\n",
            " [2.759327644979315 3]\n",
            " [2.6298388259543817 2]\n",
            " [-4.385686835790853 -5]\n",
            " [-3.8996546875338596 -5]\n",
            " [2.759327644979315 4]\n",
            " [3.472991767896504 3]\n",
            " [0.8138119259676018 5]\n",
            " [0.8138119259676018 '0']\n",
            " [2.8410020316179976 3]\n",
            " [2.759327644979315 '-1']\n",
            " [3.6299870316312512 4]\n",
            " [-0.20556808898750822 '-4']\n",
            " [0.5105618931099711 '-1']\n",
            " [2.759327644979315 '0']\n",
            " [3.253882909961133 3]\n",
            " [3.253882909961133 4]\n",
            " [-4.0370891588305495 '-4']\n",
            " [-4.385686835790853 -5]\n",
            " [3.3535093899039747 3]\n",
            " [2.978436502914686 4]\n",
            " [2.7745068111880293 5]\n",
            " [1.4574975980402451 2]\n",
            " [0.7296707510453431 2]\n",
            " [-3.350780079173406 '-1']\n",
            " [-0.7001233539693261 '-3']\n",
            " [2.492404354657693 2]\n",
            " [3.6299870316312512 2]\n",
            " [3.253882909961133 4]\n",
            " [-2.864747930916412 '-4']\n",
            " [-3.8996546875338596 -5]]\n"
          ]
        }
      ]
    },
    {
      "cell_type": "markdown",
      "source": [
        "##Box plot of \"Gender\" vs \"Age\""
      ],
      "metadata": {
        "id": "fXFAbwqhYxtm"
      }
    },
    {
      "cell_type": "code",
      "source": [
        "import seaborn as sns\n",
        "sns.catplot(x=\"Gender\",y=\"Age\", kind=\"box\", data=final_dataset, dodge=False, ci=None, height=5, aspect=1.5)\n",
        "plt.show()"
      ],
      "metadata": {
        "colab": {
          "base_uri": "https://localhost:8080/",
          "height": 369
        },
        "id": "Ni7jJ3mUY9tU",
        "outputId": "f6667039-b0ab-4526-869e-b04868a0e987"
      },
      "execution_count": 9,
      "outputs": [
        {
          "output_type": "display_data",
          "data": {
            "text/plain": [
              "<Figure size 540x360 with 1 Axes>"
            ],
            "image/png": "[encoded data removed]"
          },
          "metadata": {
            "needs_background": "light"
          }
        }
      ]
    }
  ]
}